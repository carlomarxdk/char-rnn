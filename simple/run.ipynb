{
 "cells": [
  {
   "cell_type": "code",
   "execution_count": 1,
   "metadata": {
    "pycharm": {
     "is_executing": true
    }
   },
   "outputs": [],
   "source": [
    "import torch\n",
    "import torch.nn as nn\n",
    "from simple.model import *\n",
    "from simple.dataloader import *\n"
   ]
  },
  {
   "cell_type": "code",
   "execution_count": null,
   "metadata": {},
   "outputs": [],
   "source": [
    "loader = TextDataset()\n",
    "len(loader)"
   ]
  },
  {
   "cell_type": "code",
   "execution_count": null,
   "metadata": {},
   "outputs": [],
   "source": [
    "model = CharRNN(input_size=loader.sequence_length, \n",
    "                output_size=len(loader.chars), \n",
    "                hidden_size=12, num_layers=24)"
   ]
  },
  {
   "cell_type": "code",
   "execution_count": 5,
   "metadata": {},
   "outputs": [],
   "source": [
    "criterion = nn.CrossEntropyLoss()\n",
    "optimizer = torch.optim.AdamW(model.parameters())\n",
    "epoch = range(15)"
   ]
  },
  {
   "cell_type": "code",
   "execution_count": null,
   "metadata": {},
   "outputs": [],
   "source": [
    "epoch_loss = list()\n",
    "for e in epoch:\n",
    "    count = 0\n",
    "    e_loss = list()\n",
    "    for i, o in loader:\n",
    "        model.zero_grad()\n",
    "        hidden = model.init_hidden(loader.batch_size)\n",
    "        output, hidden = model(i, hidden)\n",
    "        loss = criterion(output.reshape([48 * 32, 80]),o.reshape([48*32]))\n",
    "        loss.backward()\n",
    "        optimizer.step()\n",
    "        count +=1\n",
    "        e_loss.append(loss.data.numpy())\n",
    "        if count > 30:\n",
    "            print('Mean Loss:', np.mean(e_loss[-30:]))\n",
    "            sample = list(model.sample(torch.tensor([53,41,38])))\n",
    "            print(''.join([loader.inx2char[int(c)] for c in sample]))\n",
    "            count=0\n",
    "    epoch_loss.append(np.mean(e_loss))\n"
   ]
  },
  {
   "cell_type": "code",
   "execution_count": 7,
   "metadata": {},
   "outputs": [
    {
     "data": {
      "text/plain": [
       "tensor([[[0.0209, 0.0214, 0.0214,  ..., 0.0215, 0.0197, 0.0209],\n",
       "         [0.0216, 0.0226, 0.0208,  ..., 0.0212, 0.0197, 0.0224],\n",
       "         [0.0215, 0.0219, 0.0198,  ..., 0.0212, 0.0199, 0.0222],\n",
       "         ...,\n",
       "         [0.0215, 0.0206, 0.0230,  ..., 0.0209, 0.0202, 0.0185],\n",
       "         [0.0226, 0.0199, 0.0226,  ..., 0.0200, 0.0235, 0.0192],\n",
       "         [0.0218, 0.0197, 0.0219,  ..., 0.0204, 0.0242, 0.0200]],\n",
       "\n",
       "        [[0.0214, 0.0212, 0.0213,  ..., 0.0213, 0.0196, 0.0208],\n",
       "         [0.0233, 0.0213, 0.0218,  ..., 0.0217, 0.0203, 0.0218],\n",
       "         [0.0216, 0.0215, 0.0225,  ..., 0.0218, 0.0201, 0.0211],\n",
       "         ...,\n",
       "         [0.0230, 0.0219, 0.0216,  ..., 0.0210, 0.0215, 0.0216],\n",
       "         [0.0230, 0.0217, 0.0218,  ..., 0.0223, 0.0195, 0.0222],\n",
       "         [0.0217, 0.0229, 0.0189,  ..., 0.0212, 0.0187, 0.0215]],\n",
       "\n",
       "        [[0.0207, 0.0209, 0.0205,  ..., 0.0207, 0.0214, 0.0211],\n",
       "         [0.0202, 0.0204, 0.0203,  ..., 0.0206, 0.0209, 0.0208],\n",
       "         [0.0200, 0.0203, 0.0206,  ..., 0.0210, 0.0194, 0.0203],\n",
       "         ...,\n",
       "         [0.0206, 0.0205, 0.0217,  ..., 0.0200, 0.0198, 0.0211],\n",
       "         [0.0208, 0.0209, 0.0213,  ..., 0.0208, 0.0210, 0.0217],\n",
       "         [0.0193, 0.0186, 0.0232,  ..., 0.0198, 0.0210, 0.0175]],\n",
       "\n",
       "        ...,\n",
       "\n",
       "        [[0.0205, 0.0206, 0.0210,  ..., 0.0209, 0.0201, 0.0203],\n",
       "         [0.0211, 0.0202, 0.0209,  ..., 0.0207, 0.0198, 0.0203],\n",
       "         [0.0207, 0.0212, 0.0206,  ..., 0.0211, 0.0196, 0.0211],\n",
       "         ...,\n",
       "         [0.0207, 0.0196, 0.0225,  ..., 0.0211, 0.0194, 0.0173],\n",
       "         [0.0219, 0.0216, 0.0209,  ..., 0.0221, 0.0191, 0.0206],\n",
       "         [0.0222, 0.0222, 0.0214,  ..., 0.0217, 0.0193, 0.0204]],\n",
       "\n",
       "        [[0.0208, 0.0207, 0.0211,  ..., 0.0217, 0.0198, 0.0204],\n",
       "         [0.0219, 0.0224, 0.0208,  ..., 0.0213, 0.0211, 0.0222],\n",
       "         [0.0231, 0.0220, 0.0199,  ..., 0.0211, 0.0227, 0.0234],\n",
       "         ...,\n",
       "         [0.0211, 0.0198, 0.0213,  ..., 0.0203, 0.0204, 0.0188],\n",
       "         [0.0196, 0.0199, 0.0229,  ..., 0.0222, 0.0207, 0.0179],\n",
       "         [0.0199, 0.0207, 0.0204,  ..., 0.0200, 0.0204, 0.0167]],\n",
       "\n",
       "        [[0.0210, 0.0209, 0.0204,  ..., 0.0206, 0.0206, 0.0215],\n",
       "         [0.0207, 0.0208, 0.0207,  ..., 0.0209, 0.0200, 0.0214],\n",
       "         [0.0207, 0.0210, 0.0215,  ..., 0.0200, 0.0200, 0.0200],\n",
       "         ...,\n",
       "         [0.0210, 0.0223, 0.0202,  ..., 0.0211, 0.0199, 0.0223],\n",
       "         [0.0221, 0.0230, 0.0208,  ..., 0.0219, 0.0217, 0.0228],\n",
       "         [0.0222, 0.0231, 0.0205,  ..., 0.0220, 0.0190, 0.0234]]],\n",
       "       grad_fn=<SoftmaxBackward>)"
      ]
     },
     "execution_count": 7,
     "metadata": {},
     "output_type": "execute_result"
    }
   ],
   "source": [
    "output"
   ]
  },
  {
   "cell_type": "code",
   "execution_count": 8,
   "metadata": {},
   "outputs": [
    {
     "data": {
      "text/plain": [
       "tensor([56, 68, 29,  ..., 56,  5, 56])"
      ]
     },
     "execution_count": 8,
     "metadata": {},
     "output_type": "execute_result"
    }
   ],
   "source": [
    "torch.argmax(output.reshape(48*32,-1), dim=1)"
   ]
  },
  {
   "cell_type": "code",
   "execution_count": 4,
   "metadata": {},
   "outputs": [
    {
     "data": {
      "text/plain": [
       "tensor([[[0]]])"
      ]
     },
     "execution_count": 4,
     "metadata": {},
     "output_type": "execute_result"
    }
   ],
   "source": [
    "o, h = model.predict(torch.tensor([[]]))\n",
    "o\n",
    "#nn.functional.softmax(oo.squeeze())"
   ]
  },
  {
   "cell_type": "code",
   "execution_count": 9,
   "metadata": {},
   "outputs": [
    {
     "ename": "IndexError",
     "evalue": "Dimension out of range (expected to be in range of [-1, 0], but got 1)",
     "output_type": "error",
     "traceback": [
      "\u001b[1;31m---------------------------------------------------------------------------\u001b[0m",
      "\u001b[1;31mIndexError\u001b[0m                                Traceback (most recent call last)",
      "\u001b[1;32m<ipython-input-9-b11c95bf5e08>\u001b[0m in \u001b[0;36m<module>\u001b[1;34m\u001b[0m\n\u001b[1;32m----> 1\u001b[1;33m \u001b[0mmodel\u001b[0m\u001b[1;33m.\u001b[0m\u001b[0msample\u001b[0m\u001b[1;33m(\u001b[0m\u001b[0mtorch\u001b[0m\u001b[1;33m.\u001b[0m\u001b[0mtensor\u001b[0m\u001b[1;33m(\u001b[0m\u001b[1;33m[\u001b[0m\u001b[1;36m1\u001b[0m\u001b[1;33m]\u001b[0m\u001b[1;33m)\u001b[0m\u001b[1;33m)\u001b[0m\u001b[1;33m\u001b[0m\u001b[1;33m\u001b[0m\u001b[0m\n\u001b[0m",
      "\u001b[1;32mD:\\Projects\\char-rnn\\simple\\model.py\u001b[0m in \u001b[0;36msample\u001b[1;34m(self, in_sequence)\u001b[0m\n\u001b[0;32m     45\u001b[0m         \u001b[0moutput\u001b[0m \u001b[1;33m=\u001b[0m \u001b[1;36m0\u001b[0m\u001b[1;33m\u001b[0m\u001b[1;33m\u001b[0m\u001b[0m\n\u001b[0;32m     46\u001b[0m         \u001b[1;32mfor\u001b[0m \u001b[0mchar\u001b[0m \u001b[1;32min\u001b[0m \u001b[0min_sequence\u001b[0m\u001b[1;33m:\u001b[0m\u001b[1;33m\u001b[0m\u001b[1;33m\u001b[0m\u001b[0m\n\u001b[1;32m---> 47\u001b[1;33m             \u001b[0moutput\u001b[0m\u001b[1;33m,\u001b[0m \u001b[0mhidden\u001b[0m \u001b[1;33m=\u001b[0m \u001b[0mself\u001b[0m\u001b[1;33m.\u001b[0m\u001b[0mpredict\u001b[0m\u001b[1;33m(\u001b[0m\u001b[0mchar\u001b[0m\u001b[1;33m.\u001b[0m\u001b[0munsqueeze\u001b[0m\u001b[1;33m(\u001b[0m\u001b[1;36m1\u001b[0m\u001b[1;33m)\u001b[0m\u001b[1;33m,\u001b[0m \u001b[0mhidden\u001b[0m\u001b[1;33m)\u001b[0m\u001b[1;33m\u001b[0m\u001b[1;33m\u001b[0m\u001b[0m\n\u001b[0m\u001b[0;32m     48\u001b[0m             \u001b[0mout_sequence\u001b[0m\u001b[1;33m.\u001b[0m\u001b[0mappend\u001b[0m\u001b[1;33m(\u001b[0m\u001b[0mchar\u001b[0m\u001b[1;33m.\u001b[0m\u001b[0mdata\u001b[0m\u001b[1;33m.\u001b[0m\u001b[0mnumpy\u001b[0m\u001b[1;33m(\u001b[0m\u001b[1;33m)\u001b[0m\u001b[1;33m)\u001b[0m\u001b[1;33m\u001b[0m\u001b[1;33m\u001b[0m\u001b[0m\n\u001b[0;32m     49\u001b[0m \u001b[1;33m\u001b[0m\u001b[0m\n",
      "\u001b[1;31mIndexError\u001b[0m: Dimension out of range (expected to be in range of [-1, 0], but got 1)"
     ]
    }
   ],
   "source": [
    "model.sample(torch.tensor([1]))"
   ]
  },
  {
   "cell_type": "code",
   "execution_count": 49,
   "metadata": {},
   "outputs": [
    {
     "data": {
      "text/plain": [
       "tensor([[7]])"
      ]
     },
     "execution_count": 49,
     "metadata": {},
     "output_type": "execute_result"
    }
   ],
   "source": [
    "torch.tensor([[7]])"
   ]
  },
  {
   "cell_type": "code",
   "execution_count": null,
   "metadata": {},
   "outputs": [],
   "source": []
  }
 ],
 "metadata": {
  "kernelspec": {
   "display_name": "Python 3",
   "language": "python",
   "name": "python3"
  },
  "language_info": {
   "codemirror_mode": {
    "name": "ipython",
    "version": 3
   },
   "file_extension": ".py",
   "mimetype": "text/x-python",
   "name": "python",
   "nbconvert_exporter": "python",
   "pygments_lexer": "ipython3",
   "version": "3.7.6"
  }
 },
 "nbformat": 4,
 "nbformat_minor": 1
}
